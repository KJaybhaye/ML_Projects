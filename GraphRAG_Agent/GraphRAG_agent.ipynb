{
  "cells": [
    {
      "cell_type": "code",
      "execution_count": 1,
      "metadata": {
        "colab": {
          "base_uri": "https://localhost:8080/"
        },
        "id": "xv4BTqtqYQg7",
        "outputId": "52e8cd6e-6163-429d-ad62-a6b3ab89522f"
      },
      "outputs": [
        {
          "name": "stdout",
          "output_type": "stream",
          "text": [
            "Mon Mar 10 14:28:45 2025       \n",
            "+-----------------------------------------------------------------------------------------+\n",
            "| NVIDIA-SMI 550.54.15              Driver Version: 550.54.15      CUDA Version: 12.4     |\n",
            "|-----------------------------------------+------------------------+----------------------+\n",
            "| GPU  Name                 Persistence-M | Bus-Id          Disp.A | Volatile Uncorr. ECC |\n",
            "| Fan  Temp   Perf          Pwr:Usage/Cap |           Memory-Usage | GPU-Util  Compute M. |\n",
            "|                                         |                        |               MIG M. |\n",
            "|=========================================+========================+======================|\n",
            "|   0  Tesla T4                       Off |   00000000:00:04.0 Off |                    0 |\n",
            "| N/A   45C    P8              9W /   70W |       0MiB /  15360MiB |      0%      Default |\n",
            "|                                         |                        |                  N/A |\n",
            "+-----------------------------------------+------------------------+----------------------+\n",
            "                                                                                         \n",
            "+-----------------------------------------------------------------------------------------+\n",
            "| Processes:                                                                              |\n",
            "|  GPU   GI   CI        PID   Type   Process name                              GPU Memory |\n",
            "|        ID   ID                                                               Usage      |\n",
            "|=========================================================================================|\n",
            "|  No running processes found                                                             |\n",
            "+-----------------------------------------------------------------------------------------+\n",
            "nvcc: NVIDIA (R) Cuda compiler driver\n",
            "Copyright (c) 2005-2024 NVIDIA Corporation\n",
            "Built on Thu_Jun__6_02:18:23_PDT_2024\n",
            "Cuda compilation tools, release 12.5, V12.5.82\n",
            "Build cuda_12.5.r12.5/compiler.34385749_0\n"
          ]
        }
      ],
      "source": [
        "!nvidia-smi\n",
        "!nvcc --version"
      ]
    },
    {
      "cell_type": "code",
      "execution_count": 2,
      "metadata": {
        "colab": {
          "base_uri": "https://localhost:8080/"
        },
        "id": "p8LXR9G9NDlk",
        "outputId": "160af576-00a7-4e68-96c5-2dcc1bcca568"
      },
      "outputs": [
        {
          "name": "stdout",
          "output_type": "stream",
          "text": [
            "\u001b[?25l   \u001b[90m━━━━━━━━━━━━━━━━━━━━━━━━━━━━━━━━━━━━━━━━\u001b[0m \u001b[32m0.0/119.3 kB\u001b[0m \u001b[31m?\u001b[0m eta \u001b[36m-:--:--\u001b[0m\r\u001b[2K   \u001b[90m━━━━━━━━━━━━━━━━━━━━━━━━━━━━━━━━━━━━━━━━\u001b[0m \u001b[32m119.3/119.3 kB\u001b[0m \u001b[31m6.4 MB/s\u001b[0m eta \u001b[36m0:00:00\u001b[0m\n",
            "\u001b[?25h\u001b[?25l   \u001b[90m━━━━━━━━━━━━━━━━━━━━━━━━━━━━━━━━━━━━━━━━\u001b[0m \u001b[32m0.0/41.8 kB\u001b[0m \u001b[31m?\u001b[0m eta \u001b[36m-:--:--\u001b[0m\r\u001b[2K   \u001b[90m━━━━━━━━━━━━━━━━━━━━━━━━━━━━━━━━━━━━━━━━\u001b[0m \u001b[32m41.8/41.8 kB\u001b[0m \u001b[31m2.5 MB/s\u001b[0m eta \u001b[36m0:00:00\u001b[0m\n",
            "\u001b[2K   \u001b[90m━━━━━━━━━━━━━━━━━━━━━━━━━━━━━━━━━━━━━━━━\u001b[0m \u001b[32m67.8/67.8 kB\u001b[0m \u001b[31m3.5 MB/s\u001b[0m eta \u001b[36m0:00:00\u001b[0m\n",
            "\u001b[2K   \u001b[90m━━━━━━━━━━━━━━━━━━━━━━━━━━━━━━━━━━━━━━━━\u001b[0m \u001b[32m1.7/1.7 MB\u001b[0m \u001b[31m36.3 MB/s\u001b[0m eta \u001b[36m0:00:00\u001b[0m\n",
            "\u001b[2K   \u001b[90m━━━━━━━━━━━━━━━━━━━━━━━━━━━━━━━━━━━━━━━━\u001b[0m \u001b[32m2.5/2.5 MB\u001b[0m \u001b[31m24.3 MB/s\u001b[0m eta \u001b[36m0:00:00\u001b[0m\n",
            "\u001b[2K   \u001b[90m━━━━━━━━━━━━━━━━━━━━━━━━━━━━━━━━━━━━━━━━\u001b[0m \u001b[32m1.0/1.0 MB\u001b[0m \u001b[31m37.6 MB/s\u001b[0m eta \u001b[36m0:00:00\u001b[0m\n",
            "\u001b[2K   \u001b[90m━━━━━━━━━━━━━━━━━━━━━━━━━━━━━━━━━━━━━━━━\u001b[0m \u001b[32m415.4/415.4 kB\u001b[0m \u001b[31m19.8 MB/s\u001b[0m eta \u001b[36m0:00:00\u001b[0m\n",
            "\u001b[2K   \u001b[90m━━━━━━━━━━━━━━━━━━━━━━━━━━━━━━━━━━━━━━━━\u001b[0m \u001b[32m45.8/45.8 kB\u001b[0m \u001b[31m4.1 MB/s\u001b[0m eta \u001b[36m0:00:00\u001b[0m\n",
            "\u001b[2K   \u001b[90m━━━━━━━━━━━━━━━━━━━━━━━━━━━━━━━━━━━━━━━━\u001b[0m \u001b[32m4.7/4.7 MB\u001b[0m \u001b[31m37.1 MB/s\u001b[0m eta \u001b[36m0:00:00\u001b[0m\n",
            "\u001b[2K   \u001b[90m━━━━━━━━━━━━━━━━━━━━━━━━━━━━━━━━━━━━━━━━\u001b[0m \u001b[32m114.6/114.6 kB\u001b[0m \u001b[31m4.8 MB/s\u001b[0m eta \u001b[36m0:00:00\u001b[0m\n",
            "\u001b[2K   \u001b[90m━━━━━━━━━━━━━━━━━━━━━━━━━━━━━━━━━━━━━━━━\u001b[0m \u001b[32m43.9/43.9 kB\u001b[0m \u001b[31m2.1 MB/s\u001b[0m eta \u001b[36m0:00:00\u001b[0m\n",
            "\u001b[2K   \u001b[90m━━━━━━━━━━━━━━━━━━━━━━━━━━━━━━━━━━━━━━━━\u001b[0m \u001b[32m50.9/50.9 kB\u001b[0m \u001b[31m3.3 MB/s\u001b[0m eta \u001b[36m0:00:00\u001b[0m\n",
            "\u001b[?25h\u001b[31mERROR: pip's dependency resolver does not currently take into account all the packages that are installed. This behaviour is the source of the following dependency conflicts.\n",
            "torch 2.5.1+cu124 requires nvidia-cublas-cu12==12.4.5.8; platform_system == \"Linux\" and platform_machine == \"x86_64\", but you have nvidia-cublas-cu12 12.5.3.2 which is incompatible.\n",
            "torch 2.5.1+cu124 requires nvidia-cuda-cupti-cu12==12.4.127; platform_system == \"Linux\" and platform_machine == \"x86_64\", but you have nvidia-cuda-cupti-cu12 12.5.82 which is incompatible.\n",
            "torch 2.5.1+cu124 requires nvidia-cuda-nvrtc-cu12==12.4.127; platform_system == \"Linux\" and platform_machine == \"x86_64\", but you have nvidia-cuda-nvrtc-cu12 12.5.82 which is incompatible.\n",
            "torch 2.5.1+cu124 requires nvidia-cuda-runtime-cu12==12.4.127; platform_system == \"Linux\" and platform_machine == \"x86_64\", but you have nvidia-cuda-runtime-cu12 12.5.82 which is incompatible.\n",
            "torch 2.5.1+cu124 requires nvidia-cudnn-cu12==9.1.0.70; platform_system == \"Linux\" and platform_machine == \"x86_64\", but you have nvidia-cudnn-cu12 9.3.0.75 which is incompatible.\n",
            "torch 2.5.1+cu124 requires nvidia-cufft-cu12==11.2.1.3; platform_system == \"Linux\" and platform_machine == \"x86_64\", but you have nvidia-cufft-cu12 11.2.3.61 which is incompatible.\n",
            "torch 2.5.1+cu124 requires nvidia-curand-cu12==10.3.5.147; platform_system == \"Linux\" and platform_machine == \"x86_64\", but you have nvidia-curand-cu12 10.3.6.82 which is incompatible.\n",
            "torch 2.5.1+cu124 requires nvidia-cusolver-cu12==11.6.1.9; platform_system == \"Linux\" and platform_machine == \"x86_64\", but you have nvidia-cusolver-cu12 11.6.3.83 which is incompatible.\n",
            "torch 2.5.1+cu124 requires nvidia-cusparse-cu12==12.3.1.170; platform_system == \"Linux\" and platform_machine == \"x86_64\", but you have nvidia-cusparse-cu12 12.5.1.3 which is incompatible.\n",
            "torch 2.5.1+cu124 requires nvidia-nvjitlink-cu12==12.4.127; platform_system == \"Linux\" and platform_machine == \"x86_64\", but you have nvidia-nvjitlink-cu12 12.5.82 which is incompatible.\u001b[0m\u001b[31m\n",
            "\u001b[0m"
          ]
        }
      ],
      "source": [
        "!pip install -qU networkx adb-cloud-connector nx-arangodb 'langgraph==0.2.45' 'langchain-google-genai==2.0.4' langchain-community"
      ]
    },
    {
      "cell_type": "code",
      "execution_count": 3,
      "metadata": {
        "id": "LA0Z_B-rNF_4"
      },
      "outputs": [],
      "source": [
        "# !pip install nx-cugraph-cu12 --extra-index-url https://pypi.nvidia.com"
      ]
    },
    {
      "cell_type": "code",
      "execution_count": null,
      "metadata": {
        "id": "VZ2zgWZUfQpb"
      },
      "outputs": [],
      "source": [
        "import os\n",
        "from google.colab import userdata\n",
        "\n",
        "# kaggle and google api setup\n",
        "os.environ[\"GOOGLE_API_KEY\"] = userdata.get(\"GOOGLE_API_KEY\")\n",
        "os.environ[\"KAGGLE_USERNAME\"] = userdata.get(\"KAGGLE_USERNAME\")\n",
        "os.environ[\"KAGGLE_KEY\"] = userdata.get(\"KAGGLE_API_KEY\")"
      ]
    },
    {
      "cell_type": "code",
      "execution_count": 5,
      "metadata": {
        "colab": {
          "base_uri": "https://localhost:8080/"
        },
        "id": "n6wGs27tMZJN",
        "outputId": "08b16666-b76a-401d-e249-8092e3958be7"
      },
      "outputs": [
        {
          "name": "stdout",
          "output_type": "stream",
          "text": [
            "Output file downloaded to /content/arxiv_metadata\n",
            "Output file downloaded to /content/citations\n",
            "Output file downloaded to /content/internal-references-v0.2.0-2019-03-01.json\n",
            "Kernel log downloaded to /content/citation-data.log \n"
          ]
        }
      ],
      "source": [
        "!kaggle kernels output kjaybhaye/citation-data"
      ]
    },
    {
      "cell_type": "code",
      "execution_count": 6,
      "metadata": {
        "id": "BPdB8TZrM_TE"
      },
      "outputs": [],
      "source": [
        "import numpy as np\n",
        "import pandas as pd\n"
      ]
    },
    {
      "cell_type": "markdown",
      "metadata": {
        "id": "wCHBd_M1aqHo"
      },
      "source": [
        "## Get temporary cloud ArangoDb database and connect to it."
      ]
    },
    {
      "cell_type": "code",
      "execution_count": null,
      "metadata": {
        "colab": {
          "base_uri": "https://localhost:8080/"
        },
        "id": "irfES3t0NJQJ",
        "outputId": "a68d5931-0fa5-43ba-9168-77ad286c7c46"
      },
      "outputs": [
        {
          "name": "stdout",
          "output_type": "stream",
          "text": [
            "Log: requesting new credentials...\n"
          ]
        }
      ],
      "source": [
        "from adb_cloud_connector import get_temp_credentials\n",
        "from arango import ArangoClient\n",
        "# from arango_datasets import Datasets\n",
        "\n",
        "credentials = get_temp_credentials()"
      ]
    },
    {
      "cell_type": "code",
      "execution_count": null,
      "metadata": {
        "id": "Iw4bOZHLNM5m"
      },
      "outputs": [],
      "source": [
        "db = ArangoClient(hosts=credentials[\"url\"]).db(\n",
        "    credentials[\"dbName\"], credentials[\"username\"], credentials[\"password\"], verify=True\n",
        ")"
      ]
    },
    {
      "cell_type": "code",
      "execution_count": 9,
      "metadata": {
        "id": "iEBsdWtbNNZj"
      },
      "outputs": [],
      "source": [
        "os.environ[\"DATABASE_HOST\"] = credentials[\"url\"]\n",
        "os.environ[\"DATABASE_USERNAME\"] = credentials[\"username\"]\n",
        "os.environ[\"DATABASE_PASSWORD\"] = credentials[\"password\"]\n",
        "os.environ[\"DATABASE_NAME\"] = credentials[\"dbName\"]"
      ]
    },
    {
      "cell_type": "markdown",
      "metadata": {
        "id": "-9-tjp1ka6j6"
      },
      "source": [
        "## load dataset, create networkx graph and load it into ArangoDb database"
      ]
    },
    {
      "cell_type": "code",
      "execution_count": 10,
      "metadata": {
        "id": "xbVXsGg5NTco"
      },
      "outputs": [],
      "source": [
        "meta_df = pd.read_csv(\"arxiv_metadata\")\n",
        "cit_df = pd.read_csv(\"citations\")"
      ]
    },
    {
      "cell_type": "code",
      "execution_count": 11,
      "metadata": {
        "colab": {
          "base_uri": "https://localhost:8080/",
          "height": 206
        },
        "id": "a_H-ck68NU3Z",
        "outputId": "c7eff957-c3de-46d1-b6c0-5d8fae05560d"
      },
      "outputs": [
        {
          "data": {
            "application/vnd.google.colaboratory.intrinsic+json": {
              "type": "dataframe",
              "variable_name": "meta_df"
            },
            "text/html": [
              "\n",
              "  <div id=\"df-00ad1f40-f69f-46f6-aac2-9c03591cd5db\" class=\"colab-df-container\">\n",
              "    <div>\n",
              "<style scoped>\n",
              "    .dataframe tbody tr th:only-of-type {\n",
              "        vertical-align: middle;\n",
              "    }\n",
              "\n",
              "    .dataframe tbody tr th {\n",
              "        vertical-align: top;\n",
              "    }\n",
              "\n",
              "    .dataframe thead th {\n",
              "        text-align: right;\n",
              "    }\n",
              "</style>\n",
              "<table border=\"1\" class=\"dataframe\">\n",
              "  <thead>\n",
              "    <tr style=\"text-align: right;\">\n",
              "      <th></th>\n",
              "      <th>Unnamed: 0</th>\n",
              "      <th>id</th>\n",
              "      <th>authors</th>\n",
              "      <th>title</th>\n",
              "      <th>abstract</th>\n",
              "      <th>year</th>\n",
              "    </tr>\n",
              "  </thead>\n",
              "  <tbody>\n",
              "    <tr>\n",
              "      <th>0</th>\n",
              "      <td>0</td>\n",
              "      <td>hep-ex/0001001</td>\n",
              "      <td>['TEXONO Collaboration']</td>\n",
              "      <td>A CsI(Tl) Scintillating Crystal Detector for t...</td>\n",
              "      <td>Scintillating crystal detector may offer som...</td>\n",
              "      <td>2012</td>\n",
              "    </tr>\n",
              "    <tr>\n",
              "      <th>1</th>\n",
              "      <td>1</td>\n",
              "      <td>hep-ex/0001002</td>\n",
              "      <td>['CLEO Collaboration']</td>\n",
              "      <td>Search for the Decay B0 -&gt; D*0 gamma</td>\n",
              "      <td>We report results of a search for the rare r...</td>\n",
              "      <td>2012</td>\n",
              "    </tr>\n",
              "    <tr>\n",
              "      <th>2</th>\n",
              "      <td>2</td>\n",
              "      <td>hep-ex/0001003</td>\n",
              "      <td>['S. Amato ', ' J. R. T. de Mello ', ' J. de M...</td>\n",
              "      <td>The E791 Parallel Architecture Data Acquisitio...</td>\n",
              "      <td>To collect data for the study of charm parti...</td>\n",
              "      <td>2008</td>\n",
              "    </tr>\n",
              "    <tr>\n",
              "      <th>3</th>\n",
              "      <td>3</td>\n",
              "      <td>hep-ex/0001004</td>\n",
              "      <td>['FNAL E791 Collaboration: E. M. Aitala', ' K....</td>\n",
              "      <td>Observation of D-pi Production Correlations in...</td>\n",
              "      <td>We study the charge correlations between cha...</td>\n",
              "      <td>2008</td>\n",
              "    </tr>\n",
              "    <tr>\n",
              "      <th>4</th>\n",
              "      <td>4</td>\n",
              "      <td>hep-ex/0001005</td>\n",
              "      <td>['A. Alavi-Harati', ' et al ']</td>\n",
              "      <td>Observation of the Decay $K_L\\to \\mu^+\\mu^- \\g...</td>\n",
              "      <td>We have observed the decay $K_L\\to \\mu^+\\mu^...</td>\n",
              "      <td>2008</td>\n",
              "    </tr>\n",
              "  </tbody>\n",
              "</table>\n",
              "</div>\n",
              "    <div class=\"colab-df-buttons\">\n",
              "\n",
              "  <div class=\"colab-df-container\">\n",
              "    <button class=\"colab-df-convert\" onclick=\"convertToInteractive('df-00ad1f40-f69f-46f6-aac2-9c03591cd5db')\"\n",
              "            title=\"Convert this dataframe to an interactive table.\"\n",
              "            style=\"display:none;\">\n",
              "\n",
              "  <svg xmlns=\"http://www.w3.org/2000/svg\" height=\"24px\" viewBox=\"0 -960 960 960\">\n",
              "    <path d=\"M120-120v-720h720v720H120Zm60-500h600v-160H180v160Zm220 220h160v-160H400v160Zm0 220h160v-160H400v160ZM180-400h160v-160H180v160Zm440 0h160v-160H620v160ZM180-180h160v-160H180v160Zm440 0h160v-160H620v160Z\"/>\n",
              "  </svg>\n",
              "    </button>\n",
              "\n",
              "  <style>\n",
              "    .colab-df-container {\n",
              "      display:flex;\n",
              "      gap: 12px;\n",
              "    }\n",
              "\n",
              "    .colab-df-convert {\n",
              "      background-color: #E8F0FE;\n",
              "      border: none;\n",
              "      border-radius: 50%;\n",
              "      cursor: pointer;\n",
              "      display: none;\n",
              "      fill: #1967D2;\n",
              "      height: 32px;\n",
              "      padding: 0 0 0 0;\n",
              "      width: 32px;\n",
              "    }\n",
              "\n",
              "    .colab-df-convert:hover {\n",
              "      background-color: #E2EBFA;\n",
              "      box-shadow: 0px 1px 2px rgba(60, 64, 67, 0.3), 0px 1px 3px 1px rgba(60, 64, 67, 0.15);\n",
              "      fill: #174EA6;\n",
              "    }\n",
              "\n",
              "    .colab-df-buttons div {\n",
              "      margin-bottom: 4px;\n",
              "    }\n",
              "\n",
              "    [theme=dark] .colab-df-convert {\n",
              "      background-color: #3B4455;\n",
              "      fill: #D2E3FC;\n",
              "    }\n",
              "\n",
              "    [theme=dark] .colab-df-convert:hover {\n",
              "      background-color: #434B5C;\n",
              "      box-shadow: 0px 1px 3px 1px rgba(0, 0, 0, 0.15);\n",
              "      filter: drop-shadow(0px 1px 2px rgba(0, 0, 0, 0.3));\n",
              "      fill: #FFFFFF;\n",
              "    }\n",
              "  </style>\n",
              "\n",
              "    <script>\n",
              "      const buttonEl =\n",
              "        document.querySelector('#df-00ad1f40-f69f-46f6-aac2-9c03591cd5db button.colab-df-convert');\n",
              "      buttonEl.style.display =\n",
              "        google.colab.kernel.accessAllowed ? 'block' : 'none';\n",
              "\n",
              "      async function convertToInteractive(key) {\n",
              "        const element = document.querySelector('#df-00ad1f40-f69f-46f6-aac2-9c03591cd5db');\n",
              "        const dataTable =\n",
              "          await google.colab.kernel.invokeFunction('convertToInteractive',\n",
              "                                                    [key], {});\n",
              "        if (!dataTable) return;\n",
              "\n",
              "        const docLinkHtml = 'Like what you see? Visit the ' +\n",
              "          '<a target=\"_blank\" href=https://colab.research.google.com/notebooks/data_table.ipynb>data table notebook</a>'\n",
              "          + ' to learn more about interactive tables.';\n",
              "        element.innerHTML = '';\n",
              "        dataTable['output_type'] = 'display_data';\n",
              "        await google.colab.output.renderOutput(dataTable, element);\n",
              "        const docLink = document.createElement('div');\n",
              "        docLink.innerHTML = docLinkHtml;\n",
              "        element.appendChild(docLink);\n",
              "      }\n",
              "    </script>\n",
              "  </div>\n",
              "\n",
              "\n",
              "<div id=\"df-bc9c499b-dfe9-4e95-81e6-21bacc670614\">\n",
              "  <button class=\"colab-df-quickchart\" onclick=\"quickchart('df-bc9c499b-dfe9-4e95-81e6-21bacc670614')\"\n",
              "            title=\"Suggest charts\"\n",
              "            style=\"display:none;\">\n",
              "\n",
              "<svg xmlns=\"http://www.w3.org/2000/svg\" height=\"24px\"viewBox=\"0 0 24 24\"\n",
              "     width=\"24px\">\n",
              "    <g>\n",
              "        <path d=\"M19 3H5c-1.1 0-2 .9-2 2v14c0 1.1.9 2 2 2h14c1.1 0 2-.9 2-2V5c0-1.1-.9-2-2-2zM9 17H7v-7h2v7zm4 0h-2V7h2v10zm4 0h-2v-4h2v4z\"/>\n",
              "    </g>\n",
              "</svg>\n",
              "  </button>\n",
              "\n",
              "<style>\n",
              "  .colab-df-quickchart {\n",
              "      --bg-color: #E8F0FE;\n",
              "      --fill-color: #1967D2;\n",
              "      --hover-bg-color: #E2EBFA;\n",
              "      --hover-fill-color: #174EA6;\n",
              "      --disabled-fill-color: #AAA;\n",
              "      --disabled-bg-color: #DDD;\n",
              "  }\n",
              "\n",
              "  [theme=dark] .colab-df-quickchart {\n",
              "      --bg-color: #3B4455;\n",
              "      --fill-color: #D2E3FC;\n",
              "      --hover-bg-color: #434B5C;\n",
              "      --hover-fill-color: #FFFFFF;\n",
              "      --disabled-bg-color: #3B4455;\n",
              "      --disabled-fill-color: #666;\n",
              "  }\n",
              "\n",
              "  .colab-df-quickchart {\n",
              "    background-color: var(--bg-color);\n",
              "    border: none;\n",
              "    border-radius: 50%;\n",
              "    cursor: pointer;\n",
              "    display: none;\n",
              "    fill: var(--fill-color);\n",
              "    height: 32px;\n",
              "    padding: 0;\n",
              "    width: 32px;\n",
              "  }\n",
              "\n",
              "  .colab-df-quickchart:hover {\n",
              "    background-color: var(--hover-bg-color);\n",
              "    box-shadow: 0 1px 2px rgba(60, 64, 67, 0.3), 0 1px 3px 1px rgba(60, 64, 67, 0.15);\n",
              "    fill: var(--button-hover-fill-color);\n",
              "  }\n",
              "\n",
              "  .colab-df-quickchart-complete:disabled,\n",
              "  .colab-df-quickchart-complete:disabled:hover {\n",
              "    background-color: var(--disabled-bg-color);\n",
              "    fill: var(--disabled-fill-color);\n",
              "    box-shadow: none;\n",
              "  }\n",
              "\n",
              "  .colab-df-spinner {\n",
              "    border: 2px solid var(--fill-color);\n",
              "    border-color: transparent;\n",
              "    border-bottom-color: var(--fill-color);\n",
              "    animation:\n",
              "      spin 1s steps(1) infinite;\n",
              "  }\n",
              "\n",
              "  @keyframes spin {\n",
              "    0% {\n",
              "      border-color: transparent;\n",
              "      border-bottom-color: var(--fill-color);\n",
              "      border-left-color: var(--fill-color);\n",
              "    }\n",
              "    20% {\n",
              "      border-color: transparent;\n",
              "      border-left-color: var(--fill-color);\n",
              "      border-top-color: var(--fill-color);\n",
              "    }\n",
              "    30% {\n",
              "      border-color: transparent;\n",
              "      border-left-color: var(--fill-color);\n",
              "      border-top-color: var(--fill-color);\n",
              "      border-right-color: var(--fill-color);\n",
              "    }\n",
              "    40% {\n",
              "      border-color: transparent;\n",
              "      border-right-color: var(--fill-color);\n",
              "      border-top-color: var(--fill-color);\n",
              "    }\n",
              "    60% {\n",
              "      border-color: transparent;\n",
              "      border-right-color: var(--fill-color);\n",
              "    }\n",
              "    80% {\n",
              "      border-color: transparent;\n",
              "      border-right-color: var(--fill-color);\n",
              "      border-bottom-color: var(--fill-color);\n",
              "    }\n",
              "    90% {\n",
              "      border-color: transparent;\n",
              "      border-bottom-color: var(--fill-color);\n",
              "    }\n",
              "  }\n",
              "</style>\n",
              "\n",
              "  <script>\n",
              "    async function quickchart(key) {\n",
              "      const quickchartButtonEl =\n",
              "        document.querySelector('#' + key + ' button');\n",
              "      quickchartButtonEl.disabled = true;  // To prevent multiple clicks.\n",
              "      quickchartButtonEl.classList.add('colab-df-spinner');\n",
              "      try {\n",
              "        const charts = await google.colab.kernel.invokeFunction(\n",
              "            'suggestCharts', [key], {});\n",
              "      } catch (error) {\n",
              "        console.error('Error during call to suggestCharts:', error);\n",
              "      }\n",
              "      quickchartButtonEl.classList.remove('colab-df-spinner');\n",
              "      quickchartButtonEl.classList.add('colab-df-quickchart-complete');\n",
              "    }\n",
              "    (() => {\n",
              "      let quickchartButtonEl =\n",
              "        document.querySelector('#df-bc9c499b-dfe9-4e95-81e6-21bacc670614 button');\n",
              "      quickchartButtonEl.style.display =\n",
              "        google.colab.kernel.accessAllowed ? 'block' : 'none';\n",
              "    })();\n",
              "  </script>\n",
              "</div>\n",
              "\n",
              "    </div>\n",
              "  </div>\n"
            ],
            "text/plain": [
              "   Unnamed: 0              id  \\\n",
              "0           0  hep-ex/0001001   \n",
              "1           1  hep-ex/0001002   \n",
              "2           2  hep-ex/0001003   \n",
              "3           3  hep-ex/0001004   \n",
              "4           4  hep-ex/0001005   \n",
              "\n",
              "                                             authors  \\\n",
              "0                           ['TEXONO Collaboration']   \n",
              "1                             ['CLEO Collaboration']   \n",
              "2  ['S. Amato ', ' J. R. T. de Mello ', ' J. de M...   \n",
              "3  ['FNAL E791 Collaboration: E. M. Aitala', ' K....   \n",
              "4                     ['A. Alavi-Harati', ' et al ']   \n",
              "\n",
              "                                               title  \\\n",
              "0  A CsI(Tl) Scintillating Crystal Detector for t...   \n",
              "1               Search for the Decay B0 -> D*0 gamma   \n",
              "2  The E791 Parallel Architecture Data Acquisitio...   \n",
              "3  Observation of D-pi Production Correlations in...   \n",
              "4  Observation of the Decay $K_L\\to \\mu^+\\mu^- \\g...   \n",
              "\n",
              "                                            abstract  year  \n",
              "0    Scintillating crystal detector may offer som...  2012  \n",
              "1    We report results of a search for the rare r...  2012  \n",
              "2    To collect data for the study of charm parti...  2008  \n",
              "3    We study the charge correlations between cha...  2008  \n",
              "4    We have observed the decay $K_L\\to \\mu^+\\mu^...  2008  "
            ]
          },
          "execution_count": 11,
          "metadata": {},
          "output_type": "execute_result"
        }
      ],
      "source": [
        "meta_df.head()"
      ]
    },
    {
      "cell_type": "code",
      "execution_count": null,
      "metadata": {
        "id": "B4aK6NMrNcp-"
      },
      "outputs": [],
      "source": [
        "meta_df.index = meta_df.id\n",
        "meta_df = meta_df.drop(\"Unnamed: 0\", axis=1)\n",
        "# meta_df.year = meta_df.year.astype(int)\n",
        "meta_df.year = meta_df.year.astype(object)"
      ]
    },
    {
      "cell_type": "code",
      "execution_count": 13,
      "metadata": {
        "colab": {
          "base_uri": "https://localhost:8080/"
        },
        "id": "drzyGELZNRg8",
        "outputId": "758e503c-fd15-44e8-bbdd-e9b127ced3fe"
      },
      "outputs": [
        {
          "name": "stderr",
          "output_type": "stream",
          "text": [
            "[14:30:19 +0000] [INFO]: NetworkX-cuGraph is available.\n",
            "INFO:nx_arangodb:NetworkX-cuGraph is available.\n"
          ]
        }
      ],
      "source": [
        "import networkx as nx\n",
        "import nx_arangodb as nxadb\n",
        "\n",
        "g = nx.DiGraph()"
      ]
    },
    {
      "cell_type": "code",
      "execution_count": null,
      "metadata": {
        "id": "T_CMmjBuNjd_"
      },
      "outputs": [],
      "source": [
        "for k in cit_df[\"from\"].unique():\n",
        "    g.add_node(k, **dict(meta_df.loc[k]))"
      ]
    },
    {
      "cell_type": "code",
      "execution_count": null,
      "metadata": {
        "id": "3TuK3rwCNj3W"
      },
      "outputs": [],
      "source": [
        "for i in range(len(cit_df)):\n",
        "    g.add_edge(cit_df[\"from\"][i], cit_df[\"to\"][i])"
      ]
    },
    {
      "cell_type": "code",
      "execution_count": null,
      "metadata": {
        "id": "n9mVxURZU_lK"
      },
      "outputs": [],
      "source": [
        "# import matplotlib.pyplot as plt\n",
        "\n",
        "# plot_options = {\"node_size\": 5, \"with_labels\": False, \"width\": 0.15}\n",
        "# pos = nx.spring_layout(g, iterations=15, seed=1721)\n",
        "# fig, ax = plt.subplots(figsize=(15, 9))\n",
        "# nx.draw_networkx(g, pos=pos, ax=ax, **plot_options)"
      ]
    },
    {
      "cell_type": "code",
      "execution_count": null,
      "metadata": {
        "colab": {
          "base_uri": "https://localhost:8080/",
          "height": 188,
          "referenced_widgets": [
            "84bfee27ecaa4a5986b2c400199dfb7d",
            "d45b6abccb1d4fae82861b5dcfaecff8",
            "5ee4995ac4ff4260943eae3ed3c7eb8a",
            "fdcc55c6ba8e4bcaa1a5adce48f40935"
          ]
        },
        "id": "fzVN0ikINlQD",
        "outputId": "7b83fd71-9f9b-4ab2-90c0-9a757daaa538"
      },
      "outputs": [
        {
          "name": "stderr",
          "output_type": "stream",
          "text": [
            "[14:34:37 +0000] [INFO]: Graph 'papers' created.\n",
            "INFO:nx_arangodb:Graph 'papers' created.\n",
            "[2025/03/10 14:34:38 +0000] [1027] [INFO] - adbnx_adapter: Instantiated ADBNX_Adapter with database 'TUTenjqxrkr09le770wvp309g'\n",
            "INFO:adbnx_adapter:Instantiated ADBNX_Adapter with database 'TUTenjqxrkr09le770wvp309g'\n"
          ]
        },
        {
          "data": {
            "application/vnd.jupyter.widget-view+json": {
              "model_id": "84bfee27ecaa4a5986b2c400199dfb7d",
              "version_major": 2,
              "version_minor": 0
            },
            "text/plain": [
              "Output()"
            ]
          },
          "metadata": {},
          "output_type": "display_data"
        },
        {
          "data": {
            "text/html": [
              "<pre style=\"white-space:pre;overflow-x:auto;line-height:normal;font-family:Menlo,'DejaVu Sans Mono',consolas,'Courier New',monospace\"></pre>\n"
            ],
            "text/plain": []
          },
          "metadata": {},
          "output_type": "display_data"
        },
        {
          "data": {
            "application/vnd.jupyter.widget-view+json": {
              "model_id": "5ee4995ac4ff4260943eae3ed3c7eb8a",
              "version_major": 2,
              "version_minor": 0
            },
            "text/plain": [
              "Output()"
            ]
          },
          "metadata": {},
          "output_type": "display_data"
        },
        {
          "data": {
            "text/html": [
              "<pre style=\"white-space:pre;overflow-x:auto;line-height:normal;font-family:Menlo,'DejaVu Sans Mono',consolas,'Courier New',monospace\"></pre>\n"
            ],
            "text/plain": []
          },
          "metadata": {},
          "output_type": "display_data"
        },
        {
          "name": "stderr",
          "output_type": "stream",
          "text": [
            "[2025/03/10 14:34:59 +0000] [1027] [INFO] - adbnx_adapter: Created ArangoDB 'papers' Graph\n",
            "INFO:adbnx_adapter:Created ArangoDB 'papers' Graph\n"
          ]
        }
      ],
      "source": [
        "G_adb = nxadb.DiGraph(incoming_graph_data=g, name=\"papers\", overwrite_graph=True)"
      ]
    },
    {
      "cell_type": "markdown",
      "metadata": {
        "id": "PTdWGMPnbHXY"
      },
      "source": [
        "## Create LLM agent"
      ]
    },
    {
      "cell_type": "code",
      "execution_count": 17,
      "metadata": {
        "id": "9qbf7dwiNn51"
      },
      "outputs": [],
      "source": [
        "from typing import Annotated, Literal\n",
        "from typing_extensions import TypedDict\n",
        "\n",
        "from langgraph.graph.message import add_messages\n",
        "from langgraph.graph import StateGraph, START, END\n",
        "from langchain_core.messages.ai import AIMessage\n",
        "from langchain_core.tools import tool\n",
        "from langgraph.prebuilt import ToolNode\n",
        "import langchain_google_genai as genai\n",
        "\n",
        "from IPython.display import Image, display\n",
        "\n",
        "from langchain_community.graphs import ArangoGraph\n",
        "from langchain_community.chains.graph_qa.arangodb import ArangoGraphQAChain\n",
        "\n",
        "import re"
      ]
    },
    {
      "cell_type": "code",
      "execution_count": 18,
      "metadata": {
        "id": "98OM05qaNoRS"
      },
      "outputs": [],
      "source": [
        "arango_graph = ArangoGraph(db)"
      ]
    },
    {
      "cell_type": "code",
      "execution_count": 19,
      "metadata": {
        "id": "T-UEYJV7N6eH"
      },
      "outputs": [],
      "source": [
        "global VERBOSE\n",
        "VERBOSE = True"
      ]
    },
    {
      "cell_type": "code",
      "execution_count": null,
      "metadata": {
        "id": "hmbJMqm4N9Km"
      },
      "outputs": [],
      "source": [
        "@tool\n",
        "def text_to_aql_to_text(query: str):\n",
        "    \"\"\"This tool is available to invoke the\n",
        "    ArangoGraphQAChain object, which enables you to\n",
        "    translate a Natural Language Query into AQL, execute\n",
        "    the query, and translate the result back into Natural Language.\n",
        "    \"\"\"\n",
        "    # print(\"tql tool\")\n",
        "\n",
        "    # llm = llm\n",
        "    llm = genai.ChatGoogleGenerativeAI(model=\"gemini-2.0-flash-001\")\n",
        "\n",
        "    chain = ArangoGraphQAChain.from_llm(\n",
        "        llm=llm, graph=arango_graph, verbose=True, allow_dangerous_requests=True\n",
        "    )\n",
        "\n",
        "    result = chain.invoke(query)\n",
        "\n",
        "    return str(result[\"result\"])"
      ]
    },
    {
      "cell_type": "code",
      "execution_count": null,
      "metadata": {
        "id": "f3aTWMHFN9ep"
      },
      "outputs": [],
      "source": [
        "@tool\n",
        "def text_to_nx_algorithm_to_text(query: str):\n",
        "    \"\"\"This tool is available to invoke a NetworkX Algorithm on\n",
        "    the ArangoDB Graph. You are responsible for accepting the\n",
        "    Natural Language Query, establishing which algorithm needs to\n",
        "    be executed, executing the algorithm, and translating the results back\n",
        "    to Natural Language, with respect to the original query.\n",
        "\n",
        "    If the query (e.g traversals, shortest path, etc.) can be solved using the Arango Query Language, then do not use\n",
        "    this tool.\n",
        "    \"\"\"\n",
        "\n",
        "    llm = genai.ChatGoogleGenerativeAI(model=\"gemini-2.0-flash-001\")\n",
        "\n",
        "    if VERBOSE:\n",
        "        print(\"1) Generating NetworkX code\")\n",
        "\n",
        "    prompt = f\"\"\"\n",
        "    I have a NetworkX Graph called `G_adb`. It has the following schema: {arango_graph.schema}\n",
        "\n",
        "    I have the following graph analysis query: {query}.\n",
        "\n",
        "    Generate the Python Code required to answer the query using the `G_adb` object.\n",
        "\n",
        "    Be very precise on the NetworkX algorithm you select to answer this query. Think step by step.\n",
        "\n",
        "    Only assume that networkx is installed, and other base python dependencies.\n",
        "\n",
        "    Always set the last variable as `FINAL_RESULT`, which represents the answer to the original query.\n",
        "\n",
        "    Only provide python code that I can directly execute via `exec()`. Do not provide any instructions.\n",
        "\n",
        "    Make sure that `FINAL_RESULT` stores a short & consice answer. Avoid setting this variable to a long sequence.\n",
        "\n",
        "    Your code:\n",
        "    \"\"\"\n",
        "\n",
        "    text_to_nx = llm.invoke(prompt).content\n",
        "\n",
        "    text_to_nx_cleaned = re.sub(\n",
        "        r\"^```python\\n|```$\", \"\", text_to_nx, flags=re.MULTILINE\n",
        "    ).strip()\n",
        "\n",
        "    if VERBOSE:\n",
        "        print(\"-\" * 10)\n",
        "        print(text_to_nx_cleaned)\n",
        "        print(\"-\" * 10)\n",
        "\n",
        "        print(\"\\n2) Executing NetworkX code\")\n",
        "    global_vars = {\"G_adb\": G_adb, \"nx\": nx}\n",
        "    local_vars = {}\n",
        "\n",
        "    try:\n",
        "        exec(text_to_nx_cleaned, global_vars, local_vars)\n",
        "        text_to_nx_final = text_to_nx\n",
        "    except Exception as e:\n",
        "        # print(f\"EXEC ERROR: {e}\")\n",
        "        # return f\"EXEC ERROR: {e}\"\n",
        "\n",
        "        # TODO: Consider experimenting with a code corrector!\n",
        "        # attempt = 1\n",
        "        # MAX_ATTEMPTS = 2\n",
        "        messages = [HumanMessage(prompt), AIMessage(text_to_nx_final), HumanMessage(e)]\n",
        "        # while attempt <= MAX_ATTEMPTS:\n",
        "        # attempt += 1\n",
        "        text_to_nx = llm.invoke(prompt).content\n",
        "        text_to_nx_cleaned = re.sub(\n",
        "            r\"^```python\\n|```$\", \"\", text_to_nx, flags=re.MULTILINE\n",
        "        ).strip()\n",
        "        try:\n",
        "            exec(text_to_nx_cleaned, global_vars, local_vars)\n",
        "            text_to_nx_final = text_to_nx\n",
        "        except Exception as e:\n",
        "            messages.append(HumanMessage(text_to_nx_final))\n",
        "            messages.append(AIMessage(text=str(e)))\n",
        "            print(f\"EXEC ERROR: {e}\")\n",
        "            return f\"EXEC ERROR: {e}\"\n",
        "\n",
        "    FINAL_RESULT = local_vars[\"FINAL_RESULT\"]\n",
        "\n",
        "    if VERBOSE:\n",
        "        print(f\"FINAL_RESULT: {FINAL_RESULT}\")\n",
        "        print(\"-\" * 10)\n",
        "\n",
        "        print(\"3) Formulating final answer\")\n",
        "\n",
        "    nx_to_text = llm.invoke(f\"\"\"\n",
        "        I have a NetworkX Graph called `G_adb`. It has the following schema: {arango_graph.schema}\n",
        "\n",
        "        I have the following graph analysis query: {query}.\n",
        "\n",
        "        I have executed the following python code to help me answer my query:\n",
        "\n",
        "        ---\n",
        "        {text_to_nx_final}\n",
        "        ---\n",
        "\n",
        "        The `FINAL_RESULT` variable is set to the following: {FINAL_RESULT}.\n",
        "\n",
        "        Based on my original Query and FINAL_RESULT, generate a short and concise response to\n",
        "        answer my query.\n",
        "\n",
        "        Your response:\n",
        "    \"\"\").content\n",
        "\n",
        "    return nx_to_text"
      ]
    },
    {
      "cell_type": "code",
      "execution_count": 22,
      "metadata": {
        "id": "pDVaRyMiN--a"
      },
      "outputs": [],
      "source": [
        "from langgraph.prebuilt import create_react_agent\n",
        "from langchain_core.messages import HumanMessage\n",
        "\n",
        "tools = [text_to_aql_to_text, text_to_nx_algorithm_to_text]\n",
        "\n",
        "llm = genai.ChatGoogleGenerativeAI(model=\"gemini-2.0-flash-001\")\n",
        "\n",
        "app = create_react_agent(llm, tools)"
      ]
    },
    {
      "cell_type": "code",
      "execution_count": null,
      "metadata": {
        "id": "-9vADIxFbtlZ"
      },
      "outputs": [],
      "source": [
        "def query_graph(query):\n",
        "    inst = f\"\"\"You are an expert graph data analyst. You have access to a knowledge graph of academic papers represented in an ArangoDB database. You also have access to two powerful tools to help you answer user questions about this graph:\n",
        "\n",
        "    1.  **text_to_aql_to_text:** This tool translates natural language questions into ArangoDB Query Language (AQL) queries, executes them against the database, and returns the results in natural language. Use this tool for queries that can be directly answered using AQL, such as retrieving paper information, counting papers, or performing simple graph traversals.\n",
        "    2.  **text_to_nx_algorithm_to_text:** This tool allows you to execute NetworkX graph algorithms on the ArangoDB graph. Use this tool for complex graph analysis, such as calculating centrality measures, finding communities, or determining shortest paths. **Only use this tool when the question requires algorithms that cannot be directly handled by AQL.**\n",
        "\n",
        "    **Your task is to analyze the user's question and use approapiate tools to answer the user's query.\n",
        "\n",
        "    **Here are the schemas of the graph:**\n",
        "    {arango_graph.schema}\"\"\"\n",
        "\n",
        "    messages = [(\"system\", inst), (\"human\", query)]\n",
        "\n",
        "    final_state = app.invoke({\"messages\": messages})\n",
        "    # final_state = app.invoke(HumanMessage(query))\n",
        "    return final_state[\"messages\"][-1].content"
      ]
    },
    {
      "cell_type": "markdown",
      "metadata": {
        "id": "GkohZo2pbPkY"
      },
      "source": [
        "### Testing code"
      ]
    },
    {
      "cell_type": "code",
      "execution_count": 24,
      "metadata": {
        "colab": {
          "base_uri": "https://localhost:8080/",
          "height": 403
        },
        "id": "iAowpPP-OFeV",
        "outputId": "798e25c5-ae9b-42f0-85c5-bb56c341abd8"
      },
      "outputs": [
        {
          "name": "stdout",
          "output_type": "stream",
          "text": [
            "1) Generating NetworkX code\n",
            "----------\n",
            "import networkx as nx\n",
            "\n",
            "degree_centrality = nx.degree_centrality(G_adb)\n",
            "\n",
            "most_influential_paper = max(degree_centrality, key=degree_centrality.get)\n",
            "\n",
            "explanation = f\"Paper with id '{most_influential_paper}' has the highest degree centrality ({degree_centrality[most_influential_paper]:.4f}), indicating it is directly connected to the most other papers in the network.  Therefore, it is the most influential based on direct connections.\"\n",
            "\n",
            "FINAL_RESULT = (most_influential_paper, explanation)\n",
            "----------\n",
            "\n",
            "2) Executing NetworkX code\n"
          ]
        },
        {
          "name": "stderr",
          "output_type": "stream",
          "text": [
            "[14:39:43 +0000] [INFO]: Graph 'papers' load took 274.5475959777832s\n",
            "INFO:nx_arangodb:Graph 'papers' load took 274.5475959777832s\n"
          ]
        },
        {
          "name": "stdout",
          "output_type": "stream",
          "text": [
            "FINAL_RESULT: ('papers_node/67643', \"Paper with id 'papers_node/67643' has the highest degree centrality (0.0288), indicating it is directly connected to the most other papers in the network.  Therefore, it is the most influential based on direct connections.\")\n",
            "----------\n",
            "3) Formulating final answer\n"
          ]
        },
        {
          "data": {
            "application/vnd.google.colaboratory.intrinsic+json": {
              "type": "string"
            },
            "text/plain": [
              "\"The paper with ID 'papers_node/67643' has the highest degree centrality (0.0288), meaning it's directly connected to the most other papers in the network and is therefore the most influential based on direct connections.\\n\""
            ]
          },
          "execution_count": 24,
          "metadata": {},
          "output_type": "execute_result"
        }
      ],
      "source": [
        "query_graph(\"Which is the most influential paper? Explain why\")"
      ]
    },
    {
      "cell_type": "code",
      "execution_count": 25,
      "metadata": {
        "id": "UGE12QBzOCOa"
      },
      "outputs": [],
      "source": [
        "global VERBOSE\n",
        "VERBOSE = False"
      ]
    },
    {
      "cell_type": "code",
      "execution_count": 26,
      "metadata": {
        "id": "7BBK4wNGOGrQ"
      },
      "outputs": [],
      "source": [
        "queries = [\n",
        "    \"What is the title of the paper with ID 'hep-ex/0001001'?\",\n",
        "    \"Who are the authors of the paper with ID 'papers_node/0'?\",\n",
        "    \"Which papers cite the paper 'papers_node/676'?\",\n",
        "    \"Which papers does the paper 'papers_node/0' cite?\",\n",
        "    \"Is there a citation path from 'papers_node/0' to 'papers_node/50'?\",\n",
        "    \"What is the id of paper titled Physics Interplay of the LHC and the ILC'?\",\n",
        "    \"How many times is 'papers_node/676' cited?\",\n",
        "    \"Are 'papers_node/0' and 'papers_node/15' in the same citation network component?\",\n",
        "    \"Which papers are most central in the citation network?\",\n",
        "    \"Calculate the betweenness centrality of all papers.\",\n",
        "]"
      ]
    },
    {
      "cell_type": "code",
      "execution_count": 27,
      "metadata": {
        "colab": {
          "base_uri": "https://localhost:8080/",
          "height": 261
        },
        "id": "dDXxfTw8OQBK",
        "outputId": "0c5b4f0b-36b9-4c70-d137-d8b86354a83f"
      },
      "outputs": [
        {
          "name": "stdout",
          "output_type": "stream",
          "text": [
            "\n",
            "\n",
            "\u001b[1m> Entering new ArangoGraphQAChain chain...\u001b[0m\n",
            "AQL Query (1):\u001b[32;1m\u001b[1;3m\n",
            "WITH papers_node\n",
            "FOR p IN papers_node\n",
            "  FILTER p.id == 'hep-ex/0001001'\n",
            "  RETURN p.title\n",
            "\u001b[0m\n",
            "AQL Result:\n",
            "\u001b[32;1m\u001b[1;3m['A CsI(Tl) Scintillating Crystal Detector for the Studies of Low Energy\\n  Neutrino Interactions']\u001b[0m\n",
            "\n",
            "\u001b[1m> Finished chain.\u001b[0m\n"
          ]
        },
        {
          "data": {
            "application/vnd.google.colaboratory.intrinsic+json": {
              "type": "string"
            },
            "text/plain": [
              "'The title of the paper with the ID \\'hep-ex/0001001\\' is \"A CsI(Tl) Scintillating Crystal Detector for the Studies of Low Energy Neutrino Interactions\".\\n'"
            ]
          },
          "execution_count": 27,
          "metadata": {},
          "output_type": "execute_result"
        }
      ],
      "source": [
        "query_graph(queries[0])"
      ]
    },
    {
      "cell_type": "code",
      "execution_count": 28,
      "metadata": {
        "colab": {
          "base_uri": "https://localhost:8080/",
          "height": 261
        },
        "id": "U1JDHF_2OX1i",
        "outputId": "4b8ef4dc-b86e-4569-9406-c0f0ae976aac"
      },
      "outputs": [
        {
          "name": "stdout",
          "output_type": "stream",
          "text": [
            "\n",
            "\n",
            "\u001b[1m> Entering new ArangoGraphQAChain chain...\u001b[0m\n",
            "AQL Query (1):\u001b[32;1m\u001b[1;3m\n",
            "WITH papers_node\n",
            "FOR p IN papers_node\n",
            "  FILTER p._id == 'papers_node/0'\n",
            "  RETURN p.authors\n",
            "\u001b[0m\n",
            "AQL Result:\n",
            "\u001b[32;1m\u001b[1;3m[\"['Gorazd Cvetic ', ' Claudio O. Dib ', ' C.S. Kim  and J. D. Kim \\\\n  U. Federico Santa Maria', ' Chile; Yonsei U. and  Seoul Natl. U.', '\\\\n  Korea)']\"]\u001b[0m\n",
            "\n",
            "\u001b[1m> Finished chain.\u001b[0m\n"
          ]
        },
        {
          "data": {
            "application/vnd.google.colaboratory.intrinsic+json": {
              "type": "string"
            },
            "text/plain": [
              "\"The authors of the paper with ID 'papers_node/0' are Gorazd Cvetic, Claudio O. Dib, C.S. Kim and J. D. Kim, U. Federico Santa Maria, Chile; Yonsei U. and Seoul Natl. U., Korea.\\n\""
            ]
          },
          "execution_count": 28,
          "metadata": {},
          "output_type": "execute_result"
        }
      ],
      "source": [
        "query_graph(queries[1])"
      ]
    },
    {
      "cell_type": "code",
      "execution_count": 29,
      "metadata": {
        "colab": {
          "base_uri": "https://localhost:8080/",
          "height": 281
        },
        "id": "n95yzYB4Ogeo",
        "outputId": "7cad1e43-4273-478e-dc30-54f55dc64351"
      },
      "outputs": [
        {
          "name": "stdout",
          "output_type": "stream",
          "text": [
            "\n",
            "\n",
            "\u001b[1m> Entering new ArangoGraphQAChain chain...\u001b[0m\n",
            "AQL Query (1):\u001b[32;1m\u001b[1;3m\n",
            "WITH papers_node, papers_node_to_papers_node\n",
            "FOR v, e IN INBOUND 'papers_node/676' papers_node_to_papers_node\n",
            "    RETURN {title: v.title, authors: v.authors}\n",
            "\u001b[0m\n",
            "AQL Result:\n",
            "\u001b[32;1m\u001b[1;3m[{'title': 'Cosmic ray signatures of massive relic particles', 'authors': \"['Subir Sarkar ']\"}, {'title': 'Particle Dark Matter: Evidence, Candidates and Constraints', 'authors': \"['Gianfranco Bertone', ' Dan Hooper and Joseph Silk']\"}]\u001b[0m\n",
            "\n",
            "\u001b[1m> Finished chain.\u001b[0m\n"
          ]
        },
        {
          "data": {
            "application/vnd.google.colaboratory.intrinsic+json": {
              "type": "string"
            },
            "text/plain": [
              "\"The papers that cite the paper with _id 'papers_node/676' are titled 'Cosmic ray signatures of massive relic particles' by Subir Sarkar and 'Particle Dark Matter: Evidence, Candidates and Constraints' by Gianfranco Bertone, Dan Hooper and Joseph Silk.\\n\""
            ]
          },
          "execution_count": 29,
          "metadata": {},
          "output_type": "execute_result"
        }
      ],
      "source": [
        "query_graph(queries[2])"
      ]
    },
    {
      "cell_type": "code",
      "execution_count": 30,
      "metadata": {
        "colab": {
          "base_uri": "https://localhost:8080/",
          "height": 298
        },
        "id": "127tgVFOOlkV",
        "outputId": "09377e87-0655-4b3b-ba58-b135c790d6af"
      },
      "outputs": [
        {
          "name": "stdout",
          "output_type": "stream",
          "text": [
            "\n",
            "\n",
            "\u001b[1m> Entering new ArangoGraphQAChain chain...\u001b[0m\n",
            "AQL Query (1):\u001b[32;1m\u001b[1;3m\n",
            "WITH papers_node, papers_node_to_papers_node\n",
            "FOR v, e IN OUTBOUND 'papers_node/0' papers_node_to_papers_node\n",
            "RETURN v.title\n",
            "\u001b[0m\n",
            "AQL Result:\n",
            "\u001b[32;1m\u001b[1;3m['On Lepton Flavor Violation in Tau Decays', 'Three-flavor MSW solutions of the solar neutrino problem', None, None, None, 'Status of the MSW Solutions to the Solar Neutrino Problem', 'Muonium-Antimuonium oscillations and massive Majorana neutrinos', 'Where do we stand with solar neutrino oscillations?', None, None]\u001b[0m\n",
            "\n",
            "\u001b[1m> Finished chain.\u001b[0m\n"
          ]
        },
        {
          "data": {
            "application/vnd.google.colaboratory.intrinsic+json": {
              "type": "string"
            },
            "text/plain": [
              "\"The paper 'papers_node/0' cites the following papers: 'On Lepton Flavor Violation in Tau Decays', 'Three-flavor MSW solutions of the solar neutrino problem', 'Status of the MSW Solutions to the Solar Neutrino Problem', 'Muonium-Antimuonium oscillations and massive Majorana neutrinos', and 'Where do we stand with solar neutrino oscillations?'. Some cited papers do not have titles.\\n\""
            ]
          },
          "execution_count": 30,
          "metadata": {},
          "output_type": "execute_result"
        }
      ],
      "source": [
        "query_graph(queries[3])"
      ]
    },
    {
      "cell_type": "code",
      "execution_count": 33,
      "metadata": {
        "colab": {
          "base_uri": "https://localhost:8080/",
          "height": 36
        },
        "id": "AgFeH3LyYMHo",
        "outputId": "ad880757-9b43-4315-aa34-a8e0b81b728d"
      },
      "outputs": [
        {
          "data": {
            "application/vnd.google.colaboratory.intrinsic+json": {
              "type": "string"
            },
            "text/plain": [
              "\"Yes, there is a citation path from 'papers_node/0' to 'papers_node/50'.\\n\""
            ]
          },
          "execution_count": 33,
          "metadata": {},
          "output_type": "execute_result"
        }
      ],
      "source": [
        "query_graph(queries[4])"
      ]
    },
    {
      "cell_type": "code",
      "execution_count": 34,
      "metadata": {
        "colab": {
          "base_uri": "https://localhost:8080/",
          "height": 261
        },
        "id": "h4KmO6ZGYPT6",
        "outputId": "9430f3b1-30cd-42d1-cebb-23306af55958"
      },
      "outputs": [
        {
          "name": "stdout",
          "output_type": "stream",
          "text": [
            "\n",
            "\n",
            "\u001b[1m> Entering new ArangoGraphQAChain chain...\u001b[0m\n",
            "AQL Query (1):\u001b[32;1m\u001b[1;3m\n",
            "WITH papers_node\n",
            "FOR p IN papers_node\n",
            "  FILTER p.title == \"Physics Interplay of the LHC and the ILC\"\n",
            "  RETURN p.id\n",
            "\u001b[0m\n",
            "AQL Result:\n",
            "\u001b[32;1m\u001b[1;3m['hep-ph/0410364']\u001b[0m\n",
            "\n",
            "\u001b[1m> Finished chain.\u001b[0m\n"
          ]
        },
        {
          "data": {
            "application/vnd.google.colaboratory.intrinsic+json": {
              "type": "string"
            },
            "text/plain": [
              "'The id of the paper titled \"Physics Interplay of the LHC and the ILC\" is hep-ph/0410364.\\n'"
            ]
          },
          "execution_count": 34,
          "metadata": {},
          "output_type": "execute_result"
        }
      ],
      "source": [
        "query_graph(queries[5])"
      ]
    },
    {
      "cell_type": "code",
      "execution_count": 35,
      "metadata": {
        "colab": {
          "base_uri": "https://localhost:8080/",
          "height": 226
        },
        "id": "FL-ypoSfYSmq",
        "outputId": "f2cead40-e986-4982-f0e2-526eaa01e5b3"
      },
      "outputs": [
        {
          "name": "stdout",
          "output_type": "stream",
          "text": [
            "\n",
            "\n",
            "\u001b[1m> Entering new ArangoGraphQAChain chain...\u001b[0m\n",
            "AQL Query (1):\u001b[32;1m\u001b[1;3m\n",
            "WITH papers_node_to_papers_node\n",
            "RETURN COUNT(FOR edge IN papers_node_to_papers_node FILTER edge._to == 'papers_node/676' RETURN edge)\n",
            "\u001b[0m\n",
            "AQL Result:\n",
            "\u001b[32;1m\u001b[1;3m[2]\u001b[0m\n",
            "\n",
            "\u001b[1m> Finished chain.\u001b[0m\n"
          ]
        },
        {
          "data": {
            "application/vnd.google.colaboratory.intrinsic+json": {
              "type": "string"
            },
            "text/plain": [
              "\"The paper 'papers_node/676' is cited 2 times.\\n\""
            ]
          },
          "execution_count": 35,
          "metadata": {},
          "output_type": "execute_result"
        }
      ],
      "source": [
        "query_graph(queries[6])"
      ]
    },
    {
      "cell_type": "code",
      "execution_count": 36,
      "metadata": {
        "colab": {
          "base_uri": "https://localhost:8080/",
          "height": 420
        },
        "id": "Bdl-hNDfYVdB",
        "outputId": "4c4572bc-7280-4ef3-9065-983136762e14"
      },
      "outputs": [
        {
          "name": "stdout",
          "output_type": "stream",
          "text": [
            "\n",
            "\n",
            "\u001b[1m> Entering new ArangoGraphQAChain chain...\u001b[0m\n",
            "AQL Query (1):\u001b[32;1m\u001b[1;3m\n",
            "WITH papers_node, papers_node_to_papers_node\n",
            "FOR v, e, p IN OUTBOUND SHORTEST_PATH 'papers_node/0' TO 'papers_node/15' papers_node_to_papers_node\n",
            "RETURN p\n",
            "\u001b[0m\n",
            "AQL Query Execution Error: \n",
            "\u001b[33;1m\u001b[1;3mAQL: SHORTEST_PATH only has one or two return variables near 'FOR v, e, p IN OUTBOUND SHORTEST...' at position 3:1 (while parsing)\u001b[0m\n",
            "\n",
            "AQL Query (2):\u001b[32;1m\u001b[1;3m\n",
            "WITH papers_node, papers_node_to_papers_node\n",
            "FOR v, e IN OUTBOUND SHORTEST_PATH 'papers_node/0' TO 'papers_node/15' papers_node_to_papers_node\n",
            "RETURN {vertex:v, edge:e}\n",
            "\u001b[0m\n",
            "AQL Result:\n",
            "\u001b[32;1m\u001b[1;3m[{'vertex': {'_key': '0', '_id': 'papers_node/0', '_rev': '_jW_4vvW---', 'id': 'hep-ph/0504126', 'authors': \"['Gorazd Cvetic ', ' Claudio O. Dib ', ' C.S. Kim  and J. D. Kim \\\\n  U. Federico Santa Maria', ' Chile; Yonsei U. and  Seoul Natl. U.', '\\\\n  Korea)']\", 'title': 'Muonium-antimuonium conversion in models with heavy neutrinos', 'abstract': '  We study muonium-antimuonium conversion and mu+ e- to mu- e+ scattering\\nwithin two different lepton-flavor-violating models with heavy neutrinos: model\\nI is a typical seesaw that violates lepton number as well as flavor; model II\\nhas a neutrino mass texture where lepton number is conserved. We look for the\\nlargest possible amplitudes of these processes that are consistent with current\\nbounds. We find that model I has very limited chance of providing an observable\\nsignal, except if a finely tuned condition in parameter space occurs. Model II,\\non the other hand, requires no fine tuning and could cause larger effects.\\nHowever, the maximum amplitude provided by this model is still two orders of\\nmagnitude below the sensitivity of current experiments: one predicts an\\neffective coupling G_MM up to 10^{-4}G_F for heavy neutrino masses near 10 TeV.\\nWe have also clarified some discrepancies in previous literature on this\\nsubject.\\n', 'year': 2009}, 'edge': None}, {'vertex': {'_key': '35471', '_id': 'papers_node/35471', '_rev': '_jW_4wB2--x', 'id': 'hep-ph/0307264', 'authors': \"['T.E. Clark and S.T. Love']\", 'title': 'Muonium-Antimuonium oscillations and massive Majorana neutrinos', 'abstract': '  The electron and muon number violating muonium-antimuonium oscillation\\nprocess can proceed provided neutrinos have non-zero masses and mix among the\\nvarious generations. Modifying the Standard Model only by the inclusion of\\nsinglet right handed neutrino fields and allowing for general neutrino masses\\nand mixings, the leading order matrix element contributing to this process is\\ncomputed. For the particularly interesting case where the neutrino masses are\\ngenerated by a see-saw mechanism with a very large Majorana mass $M_R>>M_W$, it\\nis found that both the very light and very heavy Majorana neutrinos each give\\ncomparable contributions to the oscillation time scale proportional to $M_R^2$.\\nPresent experimental limits set by the non-observation of the oscillation\\nprocess sets a lower limit on $M_R$ of roughly of order $10^4$ GeV.\\n', 'year': 2009}, 'edge': {'_key': '3', '_id': 'papers_node_to_papers_node/3', '_from': 'papers_node/0', '_to': 'papers_node/35471', '_rev': '_jW_4y16--B'}}, {'vertex': {'_key': '6486', '_id': 'papers_node/6486', '_rev': '_jW_4vyy-_L', 'id': 'hep-ph/0101336', 'authors': \"['Andrzej J. Buras']\", 'title': 'Flavour Dynamics: CP Violation and Rare Decays', 'abstract': \"  These lectures give an up to date description of CP violation and rare decays\\nof K and B mesons and consist of ten chapters: i) Grand view of the field\\nincluding CKM matrix and the unitarity triangle, ii) General aspects of the\\ntheoretical framework based on effective weak Hamiltonians, the operator\\nproduct expansion and the renormalization group, iii) Particle-antiparticle\\nmixing and various types of CP violation, iv) Standard analysis of the\\nunitarity triangle, v) The ratio epsilon'/epsilon, vi) Rare decays K^+ -> pi^+\\nnu barnu and K_L to pi^0 nu barnu, vii) Express review of other rare decays,\\nviii) CP violation in B decays, ix) A brief look beyond the Standard Model\\ndiscussing in particular the models with minimal flavour violation, x)\\nPerspectives for the coming years.\\n\", 'year': 2017}, 'edge': {'_key': '400095', '_id': 'papers_node_to_papers_node/400095', '_from': 'papers_node/35471', '_to': 'papers_node/6486', '_rev': '_jW_429i-AA'}}, {'vertex': {'_key': '33013', '_id': 'papers_node/33013', '_rev': '_jW_4wAu-__', 'id': 'hep-ph/9904271', 'authors': \"['Yosef Nir']\", 'title': 'CP Violation in B Decays', 'abstract': '  In the near future, we will have the first significant experimental\\nmeasurements of CP violation in B decays. These measurements will easily test\\ncrucial questions such as whether the Standard Model Kobayashi-Maskawa phase\\nplays a dominant role in CP violation or whether CP is an approximate symmetry\\nin nature. We explain the different types of CP violation in B decays, and the\\nusefulness of measuring them. We use the same formalism to describe the epsilon\\nand epsilon(prime) parameters of the neutral K system and to explain the terms\\ndirect and indirect CP violation. We present the Standard Model predictions for\\nthe various asymmetries. We argue that certain CP asymmetries in B decays are\\nsubject to a very clean theoretical interpretation in terms of fundamental\\nLagrangian parameters. Within the Standard Model, these asymmetries will\\nprovide very accurate measurements of the CKM parameters. In case that\\ndeviations from the Standard Model predictions will be found, there is enough\\ninformation to understand the nature of New Physics that is required to explain\\nthem. We demonstrate this statement by analyzing the impact of various\\nSupersymmetric flavor models on CP violation.\\n', 'year': 2007}, 'edge': {'_key': '79947', '_id': 'papers_node_to_papers_node/79947', '_from': 'papers_node/6486', '_to': 'papers_node/33013', '_rev': '_jW_4z0e--a'}}, {'vertex': {'_key': '12796', '_id': 'papers_node/12796', '_rev': '_jW_4v1y-_f', 'id': 'hep-ph/9709356', 'authors': \"['Stephen P. Martin']\", 'title': 'A Supersymmetry Primer', 'abstract': '  I provide a pedagogical introduction to supersymmetry. The level of\\ndiscussion is aimed at readers who are familiar with the Standard Model and\\nquantum field theory, but who have had little or no prior exposure to\\nsupersymmetry. Topics covered include: motivations for supersymmetry, the\\nconstruction of supersymmetric Lagrangians, superspace and superfields, soft\\nsupersymmetry-breaking interactions, the Minimal Supersymmetric Standard Model\\n(MSSM), R-parity and its consequences, the origins of supersymmetry breaking,\\nthe mass spectrum of the MSSM, decays of supersymmetric particles, experimental\\nsignals for supersymmetry, and some extensions of the minimal framework.\\n', 'year': 2016}, 'edge': {'_key': '372464', '_id': 'papers_node_to_papers_node/372464', '_from': 'papers_node/33013', '_to': 'papers_node/12796', '_rev': '_jW_42xe-_x'}}, {'vertex': {'_key': '25577', '_id': 'papers_node/25577', '_rev': '_jW_4v8O--g', 'id': 'hep-ph/0512163', 'authors': \"['Herbi K. Dreiner', ' Christoph Luhn', ' Marc Thormeier']\", 'title': 'What is the Discrete Gauge Symmetry of the MSSM?', 'abstract': '  We systematically study the extension of the Supersymmetric Standard Model\\n(SSM) by an anomaly-free discrete gauge symmetry Z_N. We extend the work of\\nIbanez and Ross with N=2,3 to arbitrary values of N. As new fundamental\\nsymmetries, we find four Z_6, nine Z_9 and nine Z_18. We then place three\\nphenomenological demands upon the low-energy effective SSM: (i) the presence of\\nthe mu-term in the superpotential, (ii) baryon-number conservation upto\\ndimension-five operators, and (iii) the presence of the see-saw neutrino mass\\nterm LHLH. We are then left with only two anomaly-free discrete gauge\\nsymmetries: baryon-triality, B_3, and a new Z_6, which we call proton-hexality,\\nP_6. Unlike B_3, P_6 prohibits the dimension-four lepton-number violating\\noperators. This we propose as the discrete gauge symmetry of the Minimal SSM,\\ninstead of R-parity.\\n', 'year': 2007}, 'edge': {'_key': '144904', '_id': 'papers_node_to_papers_node/144904', '_from': 'papers_node/12796', '_to': 'papers_node/25577', '_rev': '_jW_40eu--V'}}, {'vertex': {'_key': '27289', '_id': 'papers_node/27289', '_rev': '_jW_4v9y--8', 'id': 'hep-ph/0601023', 'authors': \"['Pran Nath and Pavel Fileviez Perez']\", 'title': 'Proton stability in grand unified theories, in strings, and in branes', 'abstract': '  A broad overview of the current status of proton stability in unified models\\nof particle interactions is given which includes non - supersymmetric\\nunification, SUSY and SUGRA unified models, unification based on extra\\ndimensions, and string-M-theory models. The extra dimensional unification\\nincludes 5D and 6D and universal extra dimensional (UED) models, and models\\nbased on warped geometry. Proton stability in a wide array of string theory and\\nM theory models is reviewed. These include Calabi-Yau models, grand unified\\nmodels with Kac-Moody levels $k>1$, a new class of heterotic string models,\\nmodels based on intersecting D branes, and string landscape models. The\\ndestabilizing effect of quantum gravity on the proton is discussed. The\\npossibility of testing grand unified models, models based on extra dimensions\\nand string-M-theory models via their distinctive modes is investigated. The\\nproposed next generation proton decay experiments, HyperK, UNO, MEMPHYS,\\nICARUS, LANNDD (DUSEL), and LENA would shed significant light on the nature of\\nunification complementary to the physics at the LHC. Mathematical tools for the\\ncomputation of proton lifetime are given in the appendices. Prospects for the\\nfuture are discussed.\\n', 'year': 2007}, 'edge': {'_key': '289350', '_id': 'papers_node_to_papers_node/289350', '_from': 'papers_node/25577', '_to': 'papers_node/27289', '_rev': '_jW_42NO--e'}}, {'vertex': {'_key': '46493', '_id': 'papers_node/46493', '_rev': '_jW_4wI6--V', 'id': 'hep-th/0610327', 'authors': \"['Ralph Blumenhagen', ' Boris Kors', ' Dieter Lust', ' Stephan Stieberger']\", 'title': 'Four-dimensional String Compactifications with D-Branes, Orientifolds\\n  and Fluxes', 'abstract': '  This review article provides a pedagogical introduction into various classes\\nof chiral string compactifications to four dimensions with D-branes and fluxes.\\nThe main concern is to provide all necessary technical tools to explicitly\\nconstruct four-dimensional orientifold vacua, with the final aim to come as\\nclose as possible to the supersymmetric Standard Model. Furthermore, we outline\\nthe available methods to derive the resulting four-dimensional effective\\naction. Finally, we summarize recent attempts to address the string vacuum\\nproblem via the statistical approach to D-brane models.\\n', 'year': 2008}, 'edge': {'_key': '311294', '_id': 'papers_node_to_papers_node/311294', '_from': 'papers_node/27289', '_to': 'papers_node/46493', '_rev': '_jW_42Gy--x'}}, {'vertex': {'_key': '2027', '_id': 'papers_node/2027', '_rev': '_jW_4vwW-_I', 'id': 'hep-ph/0607138', 'authors': \"['Joseph P. Conlon']\", 'title': 'Seeing the Invisible Axion in the Sparticle Spectrum', 'abstract': '  I describe how under favourable circumstances the invisible axion may\\nmanifest its existence at the LHC through the sparticle spectrum; in particular\\nthrough a gluino \\\\sim \\\\ln (M_P/m_{3/2}) times heavier than other gauginos.\\n', 'year': 2008}, 'edge': {'_key': '579561', '_id': 'papers_node_to_papers_node/579561', '_from': 'papers_node/46493', '_to': 'papers_node/2027', '_rev': '_jW_45E--_U'}}, {'vertex': {'_key': '16503', '_id': 'papers_node/16503', '_rev': '_jW_4v3e-_f', 'id': 'hep-ph/0509198', 'authors': \"['Pierre Sikivie']\", 'title': 'Axions 05', 'abstract': \"  The Strong CP Problem and its resolution through the existence of an axion\\nare briefly reviewed. The combined constraints from accelerator searches, the\\nevolution of red giants and the duration of the SN 1987a neutrino pulse require\\nthe axion mass $m_a$ to be less than $3 \\\\cdot 10^{-3}$ eV. On the other hand,\\nthe requirement that the axion does not overclose the universe implies a lower\\nbound on $m_a$ of order $10^{-6}$ eV. This lower bound can, however, be relaxed\\nin a number of ways. If $m_a$ is near the lower bound, axions are an important\\ncontribution to the energy density of the universe in the form of (very) cold\\ndark matter. Dark matter axions can be searched for on Earth by stimulating\\ntheir conversion to microwave photons in an electromagnetic cavity permeated by\\na magnetic field. Using this technique, limits on the local halo density have\\nbeen placed by the Axion Dark Matter eXperiment. I'll give a status report on\\nADMX and its upgrade presently under construction. I'll also report on recent\\nresults from solar axion searches and laser experiments.\\n\", 'year': 2011}, 'edge': {'_key': '24872', '_id': 'papers_node_to_papers_node/24872', '_from': 'papers_node/2027', '_to': 'papers_node/16503', '_rev': '_jW_4zN6--O'}}]\u001b[0m\n",
            "\n",
            "\u001b[1m> Finished chain.\u001b[0m\n"
          ]
        },
        {
          "data": {
            "application/vnd.google.colaboratory.intrinsic+json": {
              "type": "string"
            },
            "text/plain": [
              "\"Since there is no path between 'papers_node/0' and 'papers_node/15', they are not in the same citation network component. Note that the previous response indicated that 'papers_node/15' was not in the dataset, which is likely the reason why no path could be found.\\n\""
            ]
          },
          "execution_count": 36,
          "metadata": {},
          "output_type": "execute_result"
        }
      ],
      "source": [
        "query_graph(queries[7])"
      ]
    },
    {
      "cell_type": "markdown",
      "metadata": {
        "id": "o4Hqb188bUKL"
      },
      "source": [
        "## create gradio interface"
      ]
    },
    {
      "cell_type": "code",
      "execution_count": 37,
      "metadata": {
        "colab": {
          "base_uri": "https://localhost:8080/"
        },
        "id": "PgilYpZKP6Dz",
        "outputId": "4711b84d-0cc3-4954-a46b-5a311b91732e"
      },
      "outputs": [
        {
          "name": "stdout",
          "output_type": "stream",
          "text": [
            "\u001b[2K   \u001b[90m━━━━━━━━━━━━━━━━━━━━━━━━━━━━━━━━━━━━━━━━\u001b[0m \u001b[32m62.3/62.3 MB\u001b[0m \u001b[31m12.9 MB/s\u001b[0m eta \u001b[36m0:00:00\u001b[0m\n",
            "\u001b[2K   \u001b[90m━━━━━━━━━━━━━━━━━━━━━━━━━━━━━━━━━━━━━━━━\u001b[0m \u001b[32m322.1/322.1 kB\u001b[0m \u001b[31m24.9 MB/s\u001b[0m eta \u001b[36m0:00:00\u001b[0m\n",
            "\u001b[2K   \u001b[90m━━━━━━━━━━━━━━━━━━━━━━━━━━━━━━━━━━━━━━━━\u001b[0m \u001b[32m94.9/94.9 kB\u001b[0m \u001b[31m10.8 MB/s\u001b[0m eta \u001b[36m0:00:00\u001b[0m\n",
            "\u001b[2K   \u001b[90m━━━━━━━━━━━━━━━━━━━━━━━━━━━━━━━━━━━━━━━━\u001b[0m \u001b[32m11.3/11.3 MB\u001b[0m \u001b[31m81.2 MB/s\u001b[0m eta \u001b[36m0:00:00\u001b[0m\n",
            "\u001b[2K   \u001b[90m━━━━━━━━━━━━━━━━━━━━━━━━━━━━━━━━━━━━━━━━\u001b[0m \u001b[32m72.0/72.0 kB\u001b[0m \u001b[31m6.7 MB/s\u001b[0m eta \u001b[36m0:00:00\u001b[0m\n",
            "\u001b[2K   \u001b[90m━━━━━━━━━━━━━━━━━━━━━━━━━━━━━━━━━━━━━━━━\u001b[0m \u001b[32m62.3/62.3 kB\u001b[0m \u001b[31m6.6 MB/s\u001b[0m eta \u001b[36m0:00:00\u001b[0m\n",
            "\u001b[?25h"
          ]
        }
      ],
      "source": [
        "!pip install -qU gradio"
      ]
    },
    {
      "cell_type": "code",
      "execution_count": 38,
      "metadata": {
        "colab": {
          "base_uri": "https://localhost:8080/",
          "height": 611
        },
        "id": "Ktf-YgCFO-Mb",
        "outputId": "e2d3ecd6-1883-4279-a0af-a3b10ef5dd35"
      },
      "outputs": [
        {
          "name": "stdout",
          "output_type": "stream",
          "text": [
            "Colab notebook detected. To show errors in colab notebook, set debug=True in launch()\n",
            "* Running on public URL: https://df48ae499b72c36c92.gradio.live\n",
            "\n",
            "This share link expires in 72 hours. For free permanent hosting and GPU upgrades, run `gradio deploy` from the terminal in the working directory to deploy to Hugging Face Spaces (https://huggingface.co/spaces)\n"
          ]
        },
        {
          "data": {
            "text/html": [
              "<div><iframe src=\"https://df48ae499b72c36c92.gradio.live\" width=\"100%\" height=\"500\" allow=\"autoplay; camera; microphone; clipboard-read; clipboard-write;\" frameborder=\"0\" allowfullscreen></iframe></div>"
            ],
            "text/plain": [
              "<IPython.core.display.HTML object>"
            ]
          },
          "metadata": {},
          "output_type": "display_data"
        },
        {
          "data": {
            "text/plain": []
          },
          "execution_count": 38,
          "metadata": {},
          "output_type": "execute_result"
        }
      ],
      "source": [
        "import gradio as gr\n",
        "\n",
        "gr.Interface(fn=query_graph, inputs=\"text\", outputs=\"text\").launch(share=True)"
      ]
    },
    {
      "cell_type": "code",
      "execution_count": null,
      "metadata": {
        "id": "dYfwJGJsiveg"
      },
      "outputs": [],
      "source": []
    }
  ],
  "metadata": {
    "accelerator": "GPU",
    "colab": {
      "gpuType": "T4",
      "provenance": []
    },
    "kernelspec": {
      "display_name": "my-python3-kernel",
      "language": "python",
      "name": "my-python3-kernel"
    },
    "language_info": {
      "codemirror_mode": {
        "name": "ipython",
        "version": 3
      },
      "file_extension": ".py",
      "mimetype": "text/x-python",
      "name": "python",
      "nbconvert_exporter": "python",
      "pygments_lexer": "ipython3",
      "version": "3.11.1"
    },
    "widgets": {
      "application/vnd.jupyter.widget-state+json": {
        "5ee4995ac4ff4260943eae3ed3c7eb8a": {
          "model_module": "@jupyter-widgets/output",
          "model_module_version": "1.0.0",
          "model_name": "OutputModel",
          "state": {
            "_dom_classes": [],
            "_model_module": "@jupyter-widgets/output",
            "_model_module_version": "1.0.0",
            "_model_name": "OutputModel",
            "_view_count": null,
            "_view_module": "@jupyter-widgets/output",
            "_view_module_version": "1.0.0",
            "_view_name": "OutputView",
            "layout": "IPY_MODEL_fdcc55c6ba8e4bcaa1a5adce48f40935",
            "msg_id": "",
            "outputs": [
              {
                "data": {
                  "text/html": "<pre style=\"white-space:pre;overflow-x:auto;line-height:normal;font-family:Menlo,'DejaVu Sans Mono',consolas,'Courier New',monospace\">(NX → ADB): Edges <span style=\"color: #5e3108; text-decoration-color: #5e3108\">━━━━━━━━━━━━━━━━━━━━━━━━━━━━━━━━━━━━━━━━</span> <span style=\"color: #800080; text-decoration-color: #800080\">100%</span> (1083785/1083785) <span style=\"color: #808000; text-decoration-color: #808000\">0:00:11</span>\n     ADB Import: 'papers_node_to_papers_node' (33784) <span style=\"color: #5bc0de; text-decoration-color: #5bc0de\">▰▰▰▰▰▱▱</span> <span style=\"color: #808000; text-decoration-color: #808000\">0:00:00</span>\n</pre>\n",
                  "text/plain": "(NX → ADB): Edges \u001b[38;2;94;49;8m━━━━━━━━━━━━━━━━━━━━━━━━━━━━━━━━━━━━━━━━\u001b[0m \u001b[35m100%\u001b[0m (1083785/1083785) \u001b[33m0:00:11\u001b[0m\n     ADB Import: 'papers_node_to_papers_node' (33784) \u001b[38;2;91;192;222m▰▰▰▰▰▱▱\u001b[0m \u001b[33m0:00:00\u001b[0m\n"
                },
                "metadata": {},
                "output_type": "display_data"
              }
            ]
          }
        },
        "84bfee27ecaa4a5986b2c400199dfb7d": {
          "model_module": "@jupyter-widgets/output",
          "model_module_version": "1.0.0",
          "model_name": "OutputModel",
          "state": {
            "_dom_classes": [],
            "_model_module": "@jupyter-widgets/output",
            "_model_module_version": "1.0.0",
            "_model_name": "OutputModel",
            "_view_count": null,
            "_view_module": "@jupyter-widgets/output",
            "_view_module_version": "1.0.0",
            "_view_name": "OutputView",
            "layout": "IPY_MODEL_d45b6abccb1d4fae82861b5dcfaecff8",
            "msg_id": "",
            "outputs": [
              {
                "data": {
                  "text/html": "<pre style=\"white-space:pre;overflow-x:auto;line-height:normal;font-family:Menlo,'DejaVu Sans Mono',consolas,'Courier New',monospace\">(NX → ADB): Nodes <span style=\"color: #97c423; text-decoration-color: #97c423\">━━━━━━━━━━━━━━━━━━━━━━━━━━━━━━━━━━━━━━━━</span> <span style=\"color: #800080; text-decoration-color: #800080\">100%</span> (121718/121718) <span style=\"color: #808000; text-decoration-color: #808000\">0:00:07</span>\n     ADB Import: 'papers_node' (21717) <span style=\"color: #5bc0de; text-decoration-color: #5bc0de\">▰▰▰▰▰▰▱</span> <span style=\"color: #808000; text-decoration-color: #808000\">0:00:00</span>\n</pre>\n",
                  "text/plain": "(NX → ADB): Nodes \u001b[38;2;151;196;35m━━━━━━━━━━━━━━━━━━━━━━━━━━━━━━━━━━━━━━━━\u001b[0m \u001b[35m100%\u001b[0m (121718/121718) \u001b[33m0:00:07\u001b[0m\n     ADB Import: 'papers_node' (21717) \u001b[38;2;91;192;222m▰▰▰▰▰▰▱\u001b[0m \u001b[33m0:00:00\u001b[0m\n"
                },
                "metadata": {},
                "output_type": "display_data"
              }
            ]
          }
        },
        "d45b6abccb1d4fae82861b5dcfaecff8": {
          "model_module": "@jupyter-widgets/base",
          "model_module_version": "1.2.0",
          "model_name": "LayoutModel",
          "state": {
            "_model_module": "@jupyter-widgets/base",
            "_model_module_version": "1.2.0",
            "_model_name": "LayoutModel",
            "_view_count": null,
            "_view_module": "@jupyter-widgets/base",
            "_view_module_version": "1.2.0",
            "_view_name": "LayoutView",
            "align_content": null,
            "align_items": null,
            "align_self": null,
            "border": null,
            "bottom": null,
            "display": null,
            "flex": null,
            "flex_flow": null,
            "grid_area": null,
            "grid_auto_columns": null,
            "grid_auto_flow": null,
            "grid_auto_rows": null,
            "grid_column": null,
            "grid_gap": null,
            "grid_row": null,
            "grid_template_areas": null,
            "grid_template_columns": null,
            "grid_template_rows": null,
            "height": null,
            "justify_content": null,
            "justify_items": null,
            "left": null,
            "margin": null,
            "max_height": null,
            "max_width": null,
            "min_height": null,
            "min_width": null,
            "object_fit": null,
            "object_position": null,
            "order": null,
            "overflow": null,
            "overflow_x": null,
            "overflow_y": null,
            "padding": null,
            "right": null,
            "top": null,
            "visibility": null,
            "width": null
          }
        },
        "fdcc55c6ba8e4bcaa1a5adce48f40935": {
          "model_module": "@jupyter-widgets/base",
          "model_module_version": "1.2.0",
          "model_name": "LayoutModel",
          "state": {
            "_model_module": "@jupyter-widgets/base",
            "_model_module_version": "1.2.0",
            "_model_name": "LayoutModel",
            "_view_count": null,
            "_view_module": "@jupyter-widgets/base",
            "_view_module_version": "1.2.0",
            "_view_name": "LayoutView",
            "align_content": null,
            "align_items": null,
            "align_self": null,
            "border": null,
            "bottom": null,
            "display": null,
            "flex": null,
            "flex_flow": null,
            "grid_area": null,
            "grid_auto_columns": null,
            "grid_auto_flow": null,
            "grid_auto_rows": null,
            "grid_column": null,
            "grid_gap": null,
            "grid_row": null,
            "grid_template_areas": null,
            "grid_template_columns": null,
            "grid_template_rows": null,
            "height": null,
            "justify_content": null,
            "justify_items": null,
            "left": null,
            "margin": null,
            "max_height": null,
            "max_width": null,
            "min_height": null,
            "min_width": null,
            "object_fit": null,
            "object_position": null,
            "order": null,
            "overflow": null,
            "overflow_x": null,
            "overflow_y": null,
            "padding": null,
            "right": null,
            "top": null,
            "visibility": null,
            "width": null
          }
        }
      }
    }
  },
  "nbformat": 4,
  "nbformat_minor": 0
}
